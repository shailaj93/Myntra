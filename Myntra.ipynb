{
 "cells": [
  {
   "cell_type": "code",
   "execution_count": 1,
   "id": "a75ede2a",
   "metadata": {},
   "outputs": [
    {
     "name": "stdout",
     "output_type": "stream",
     "text": [
      "Requirement already satisfied: selenium in c:\\users\\ayushi\\anaconda3\\lib\\site-packages (4.1.0)\n",
      "Requirement already satisfied: trio~=0.17 in c:\\users\\ayushi\\anaconda3\\lib\\site-packages (from selenium) (0.19.0)\n",
      "Requirement already satisfied: trio-websocket~=0.9 in c:\\users\\ayushi\\anaconda3\\lib\\site-packages (from selenium) (0.9.2)\n",
      "Requirement already satisfied: urllib3[secure]~=1.26 in c:\\users\\ayushi\\anaconda3\\lib\\site-packages (from selenium) (1.26.4)\n",
      "Requirement already satisfied: sniffio in c:\\users\\ayushi\\anaconda3\\lib\\site-packages (from trio~=0.17->selenium) (1.2.0)\n",
      "Requirement already satisfied: sortedcontainers in c:\\users\\ayushi\\anaconda3\\lib\\site-packages (from trio~=0.17->selenium) (2.3.0)\n",
      "Requirement already satisfied: outcome in c:\\users\\ayushi\\anaconda3\\lib\\site-packages (from trio~=0.17->selenium) (1.1.0)\n",
      "Requirement already satisfied: idna in c:\\users\\ayushi\\anaconda3\\lib\\site-packages (from trio~=0.17->selenium) (2.10)\n",
      "Requirement already satisfied: async-generator>=1.9 in c:\\users\\ayushi\\anaconda3\\lib\\site-packages (from trio~=0.17->selenium) (1.10)\n",
      "Requirement already satisfied: cffi>=1.14 in c:\\users\\ayushi\\anaconda3\\lib\\site-packages (from trio~=0.17->selenium) (1.14.5)\n",
      "Requirement already satisfied: attrs>=19.2.0 in c:\\users\\ayushi\\anaconda3\\lib\\site-packages (from trio~=0.17->selenium) (20.3.0)\n",
      "Requirement already satisfied: pycparser in c:\\users\\ayushi\\anaconda3\\lib\\site-packages (from cffi>=1.14->trio~=0.17->selenium) (2.20)\n",
      "Requirement already satisfied: wsproto>=0.14 in c:\\users\\ayushi\\anaconda3\\lib\\site-packages (from trio-websocket~=0.9->selenium) (1.0.0)\n",
      "Requirement already satisfied: certifi in c:\\users\\ayushi\\anaconda3\\lib\\site-packages (from urllib3[secure]~=1.26->selenium) (2020.12.5)\n",
      "Requirement already satisfied: pyOpenSSL>=0.14 in c:\\users\\ayushi\\anaconda3\\lib\\site-packages (from urllib3[secure]~=1.26->selenium) (20.0.1)\n",
      "Requirement already satisfied: cryptography>=1.3.4 in c:\\users\\ayushi\\anaconda3\\lib\\site-packages (from urllib3[secure]~=1.26->selenium) (3.4.7)\n",
      "Requirement already satisfied: six>=1.5.2 in c:\\users\\ayushi\\anaconda3\\lib\\site-packages (from pyOpenSSL>=0.14->urllib3[secure]~=1.26->selenium) (1.15.0)\n",
      "Requirement already satisfied: h11<1,>=0.9.0 in c:\\users\\ayushi\\anaconda3\\lib\\site-packages (from wsproto>=0.14->trio-websocket~=0.9->selenium) (0.12.0)\n"
     ]
    }
   ],
   "source": [
    "!pip install selenium"
   ]
  },
  {
   "cell_type": "code",
   "execution_count": 2,
   "id": "373b6e32",
   "metadata": {},
   "outputs": [],
   "source": [
    "import selenium\n",
    "from selenium import webdriver\n",
    "import pandas as pd\n",
    "import warnings \n",
    "warnings.filterwarnings('ignore')"
   ]
  },
  {
   "cell_type": "code",
   "execution_count": 108,
   "id": "433feb5b",
   "metadata": {},
   "outputs": [],
   "source": [
    "driver=webdriver.Chrome(r'C:\\Users\\AYUSHI\\Downloads\\chromedriver_win32\\chromedriver.exe')"
   ]
  },
  {
   "cell_type": "code",
   "execution_count": 109,
   "id": "1c0da8f1",
   "metadata": {},
   "outputs": [],
   "source": [
    "url='https://www.myntra.com/shoes'\n",
    "driver.get(url)"
   ]
  },
  {
   "cell_type": "code",
   "execution_count": 116,
   "id": "eebe328d",
   "metadata": {},
   "outputs": [
    {
     "data": {
      "text/plain": [
       "<selenium.webdriver.remote.webelement.WebElement (session=\"4e40198e4046b6a17ab012052a55efd1\", element=\"dbc227a1-8074-46c1-af8a-cd058dd4506e\")>"
      ]
     },
     "execution_count": 116,
     "metadata": {},
     "output_type": "execute_result"
    }
   ],
   "source": [
    "price_btn=driver.find_element_by_xpath('/html/body/div[2]/div/div[1]/main/div[3]/div[1]/section/div/div[5]/ul/li[2]/label')\n",
    "price_btn"
   ]
  },
  {
   "cell_type": "code",
   "execution_count": 117,
   "id": "7dbabe6d",
   "metadata": {},
   "outputs": [],
   "source": [
    "price_btn.click()"
   ]
  },
  {
   "cell_type": "code",
   "execution_count": 112,
   "id": "c03f60d4",
   "metadata": {},
   "outputs": [],
   "source": [
    "search_color=driver.find_element_by_xpath('/html/body/div[2]/div/div[1]/main/div[3]/div[1]/section/div/div[6]/ul/li[1]/label/span[1]')"
   ]
  },
  {
   "cell_type": "code",
   "execution_count": 113,
   "id": "07e67694",
   "metadata": {},
   "outputs": [],
   "source": [
    "search_color.click()"
   ]
  },
  {
   "cell_type": "code",
   "execution_count": 118,
   "id": "4a38e15d",
   "metadata": {},
   "outputs": [
    {
     "data": {
      "text/plain": [
       "50"
      ]
     },
     "execution_count": 118,
     "metadata": {},
     "output_type": "execute_result"
    }
   ],
   "source": [
    "titles_tags=driver.find_elements_by_xpath('//h3[@class=\"product-brand\"]')\n",
    "len(titles_tags)"
   ]
  },
  {
   "cell_type": "code",
   "execution_count": 119,
   "id": "a3b2ba38",
   "metadata": {},
   "outputs": [
    {
     "data": {
      "text/plain": [
       "['PUMA Motorsport',\n",
       " 'Puma',\n",
       " 'Puma',\n",
       " 'Puma',\n",
       " 'Saint G',\n",
       " 'Puma',\n",
       " 'RARE RABBIT',\n",
       " 'Cole Haan',\n",
       " 'Calvin Klein',\n",
       " 'ASICS',\n",
       " 'Bugatti',\n",
       " 'Bugatti',\n",
       " 'Saint G',\n",
       " 'DAVINCHI',\n",
       " 'DAVINCHI',\n",
       " 'Saint G',\n",
       " 'Geox',\n",
       " 'RARE RABBIT',\n",
       " 'Saint G',\n",
       " 'Heel & Buckle London',\n",
       " 'Saint G',\n",
       " 'Saint G',\n",
       " 'Puma',\n",
       " 'Geox',\n",
       " 'Bugatti',\n",
       " 'Tommy Hilfiger',\n",
       " 'J.FONTINI',\n",
       " 'J.FONTINI',\n",
       " 'Xtep',\n",
       " 'J.FONTINI',\n",
       " 'Geox',\n",
       " 'DAVINCHI',\n",
       " 'DAVINCHI',\n",
       " 'DAVINCHI',\n",
       " 'Geox',\n",
       " 'Geox',\n",
       " 'Pavers England',\n",
       " 'Saint G',\n",
       " 'Louis Philippe',\n",
       " 'Cole Haan',\n",
       " 'Geox',\n",
       " 'Cole Haan',\n",
       " 'DAVINCHI',\n",
       " 'Pavers England',\n",
       " 'Pavers England',\n",
       " 'Pavers England',\n",
       " 'Saint G',\n",
       " 'Saint G',\n",
       " 'Saint G',\n",
       " 'Saint G']"
      ]
     },
     "execution_count": 119,
     "metadata": {},
     "output_type": "execute_result"
    }
   ],
   "source": [
    "brand_titles=[]\n",
    "for i in titles_tags:\n",
    "    brand_titles.append(i.text)\n",
    "brand_titles"
   ]
  },
  {
   "cell_type": "code",
   "execution_count": 120,
   "id": "aa4e26d7",
   "metadata": {},
   "outputs": [
    {
     "data": {
      "text/plain": [
       "50"
      ]
     },
     "execution_count": 120,
     "metadata": {},
     "output_type": "execute_result"
    }
   ],
   "source": [
    "product_tags=driver.find_elements_by_xpath('//h4[@class=\"product-product\"]')\n",
    "len(product_tags)"
   ]
  },
  {
   "cell_type": "code",
   "execution_count": 121,
   "id": "64b9f92f",
   "metadata": {},
   "outputs": [
    {
     "data": {
      "text/plain": [
       "['Unisex Mercedes F1 Sneakers',\n",
       " 'Men Running Shoes',\n",
       " 'Men Magnify Nitro Running',\n",
       " 'Men Electrify Nitro Running',\n",
       " 'Men Mid-Top Chelsea Boots',\n",
       " 'Women Magnify Nitro Shoes',\n",
       " 'Men Leather Flat Boots',\n",
       " 'Men GENERATION ZEROGRAND STITCHLITE',\n",
       " 'Men Solid Suede Sneakers',\n",
       " 'Men Colourblocked PU Sneakers',\n",
       " 'Men Running Shoes',\n",
       " 'Men Textured Leather High-Top Flat Boots',\n",
       " 'Men Leather Chelsea Boots',\n",
       " 'Men Solid Leather Formal Derbys',\n",
       " 'Men Textured Formal Leather Loafers',\n",
       " 'Women Leather Loafers',\n",
       " 'Men Leather Flat Boots',\n",
       " 'Men Textured Leather Loafers',\n",
       " 'Leather Wedge Heeled Boots with Buckles',\n",
       " 'Men Formal Leather Derby',\n",
       " 'Suede High-Top Flatform Heeled Boots',\n",
       " 'Embellished Leather Block Heeled Boots',\n",
       " 'Women Velocity NITRO Runners',\n",
       " 'Women Leather Pumps',\n",
       " 'Men Black Walking Shoes',\n",
       " 'Women Hybrid Leather Sneakers',\n",
       " 'Men Textured Leather Loafers',\n",
       " 'Men Textured Leather Loafers',\n",
       " 'Men Running Shoes',\n",
       " 'Men Black Leather Loafers',\n",
       " 'Men Leather Loafers',\n",
       " 'Ustraa black',\n",
       " 'Men Formal Leather Slip-Ons',\n",
       " 'Men Textured Formal Leather Loafers',\n",
       " 'Women Solid Leather Pumps',\n",
       " 'Women Solid Leather Pumps',\n",
       " 'Men Leather Driving Shoes',\n",
       " 'Women Leather Heeled Boots',\n",
       " 'Men Leather Formal Slip-Ons',\n",
       " 'Women Open Toe Flats',\n",
       " 'Women Solid Leather Ballerinas',\n",
       " 'Women Solid Leather Ballerinas',\n",
       " 'Men Textured Leather Formal Slip-Ons',\n",
       " 'Men Solid Leather Formal Loafers',\n",
       " 'Men Textured Leather Formal Slip-On Shoes',\n",
       " 'Men Solid Leather Formal Derbys',\n",
       " 'Leather Block Heeled Boots',\n",
       " 'Leather Kitten Heeled Boots',\n",
       " 'Leather Block Heeled Boots with Bows',\n",
       " 'Leather Platform Heeled Boots']"
      ]
     },
     "execution_count": 121,
     "metadata": {},
     "output_type": "execute_result"
    }
   ],
   "source": [
    "product_names=[]\n",
    "for j in product_tags:\n",
    "    product_names.append(j.text)\n",
    "product_names"
   ]
  },
  {
   "cell_type": "code",
   "execution_count": 148,
   "id": "3f49d323",
   "metadata": {},
   "outputs": [
    {
     "data": {
      "text/plain": [
       "50"
      ]
     },
     "execution_count": 148,
     "metadata": {},
     "output_type": "execute_result"
    }
   ],
   "source": [
    "price_tags=driver.find_elements_by_xpath('//div[@class=\"product-price\"]/span[1]')\n",
    "len(price_tags)"
   ]
  },
  {
   "cell_type": "code",
   "execution_count": 149,
   "id": "eaa10eb6",
   "metadata": {},
   "outputs": [
    {
     "data": {
      "text/plain": [
       "['Rs. 7999Rs. 9999',\n",
       " 'Rs. 7149Rs. 12999',\n",
       " 'Rs. 8449Rs. 12999',\n",
       " 'Rs. 7499Rs. 9999',\n",
       " 'Rs. 9810Rs. 10900',\n",
       " 'Rs. 8449Rs. 12999',\n",
       " 'Rs. 7999Rs. 9999',\n",
       " 'Rs. 11999',\n",
       " 'Rs. 7999',\n",
       " 'Rs. 9999',\n",
       " 'Rs. 7999Rs. 9999',\n",
       " 'Rs. 8399Rs. 11999',\n",
       " 'Rs. 10710Rs. 11900',\n",
       " 'Rs. 8990',\n",
       " 'Rs. 8990',\n",
       " 'Rs. 7500Rs. 9500',\n",
       " 'Rs. 8399Rs. 11999',\n",
       " 'Rs. 7149Rs. 10999',\n",
       " 'Rs. 13410Rs. 14900',\n",
       " 'Rs. 7990',\n",
       " 'Rs. 12150Rs. 13500',\n",
       " 'Rs. 9546Rs. 12900',\n",
       " 'Rs. 7699Rs. 10999',\n",
       " 'Rs. 8999',\n",
       " 'Rs. 7199Rs. 8999',\n",
       " 'Rs. 7999',\n",
       " 'Rs. 7990',\n",
       " 'Rs. 7990',\n",
       " 'Rs. 7699',\n",
       " 'Rs. 8490',\n",
       " 'Rs. 9999',\n",
       " 'Rs. 8990',\n",
       " 'Rs. 8990',\n",
       " 'Rs. 8990',\n",
       " 'Rs. 7999',\n",
       " 'Rs. 10990',\n",
       " 'Rs. 7499',\n",
       " 'Rs. 10710Rs. 11900',\n",
       " 'Rs. 8499',\n",
       " 'Rs. 11999',\n",
       " 'Rs. 8999',\n",
       " 'Rs. 13999',\n",
       " 'Rs. 8990',\n",
       " 'Rs. 7999',\n",
       " 'Rs. 9999',\n",
       " 'Rs. 8999',\n",
       " 'Rs. 8550Rs. 9500',\n",
       " 'Rs. 8910Rs. 9900',\n",
       " 'Rs. 12510Rs. 13900',\n",
       " 'Rs. 9810Rs. 10900']"
      ]
     },
     "execution_count": 149,
     "metadata": {},
     "output_type": "execute_result"
    }
   ],
   "source": [
    "price=[]\n",
    "for k in price_tags:\n",
    "    price.append(k.text)\n",
    "price"
   ]
  },
  {
   "cell_type": "code",
   "execution_count": null,
   "id": "553d8e4e",
   "metadata": {},
   "outputs": [],
   "source": []
  },
  {
   "cell_type": "code",
   "execution_count": 150,
   "id": "f804891a",
   "metadata": {},
   "outputs": [],
   "source": [
    "search_next=driver.find_element_by_xpath('/html/body/div[2]/div/div[1]/main/div[3]/div[2]/div/div[2]/section/div[2]/ul/li[12]/a')"
   ]
  },
  {
   "cell_type": "code",
   "execution_count": 151,
   "id": "c3b39a65",
   "metadata": {},
   "outputs": [],
   "source": [
    "search_next.click()"
   ]
  },
  {
   "cell_type": "code",
   "execution_count": 152,
   "id": "5eee7686",
   "metadata": {},
   "outputs": [
    {
     "data": {
      "text/plain": [
       "50"
      ]
     },
     "execution_count": 152,
     "metadata": {},
     "output_type": "execute_result"
    }
   ],
   "source": [
    "titles_tags1=driver.find_elements_by_xpath('//h3[@class=\"product-brand\"]')\n",
    "len(titles_tags1)"
   ]
  },
  {
   "cell_type": "code",
   "execution_count": 153,
   "id": "34a93d06",
   "metadata": {},
   "outputs": [
    {
     "data": {
      "text/plain": [
       "['Saint G',\n",
       " 'Saint G',\n",
       " 'Geox',\n",
       " 'Saint G',\n",
       " 'Saint G',\n",
       " 'Heel & Buckle London',\n",
       " 'Saint G',\n",
       " 'Saint G',\n",
       " 'Saint G',\n",
       " 'Saint G',\n",
       " 'Saint G',\n",
       " 'Saint G',\n",
       " 'Geox',\n",
       " 'MANGO',\n",
       " 'fitflop',\n",
       " 'Cole Haan',\n",
       " 'Nike',\n",
       " 'Saint G',\n",
       " 'Hush Puppies',\n",
       " 'Skechers',\n",
       " 'Skechers',\n",
       " 'Hush Puppies',\n",
       " 'Hush Puppies',\n",
       " 'Nike',\n",
       " 'Hush Puppies',\n",
       " 'ECCO',\n",
       " 'Hush Puppies',\n",
       " 'Saint G',\n",
       " 'Bugatti',\n",
       " 'Hush Puppies',\n",
       " 'Heel & Buckle London',\n",
       " 'Saint G',\n",
       " 'Saint G',\n",
       " 'Saint G',\n",
       " 'Saint G',\n",
       " 'DAVINCHI',\n",
       " 'ECCO',\n",
       " 'ECCO',\n",
       " 'MANGO',\n",
       " 'ECCO',\n",
       " 'Puma',\n",
       " 'UNDER ARMOUR',\n",
       " 'Pavers England',\n",
       " 'J.FONTINI',\n",
       " 'Geox',\n",
       " 'Saint G',\n",
       " 'Saint G',\n",
       " 'Bugatti',\n",
       " 'Onitsuka Tiger',\n",
       " 'Geox']"
      ]
     },
     "execution_count": 153,
     "metadata": {},
     "output_type": "execute_result"
    }
   ],
   "source": [
    "brand_titles1=[]\n",
    "for i in titles_tags1:\n",
    "    brand_titles1.append(i.text)\n",
    "brand_titles1"
   ]
  },
  {
   "cell_type": "code",
   "execution_count": 154,
   "id": "ddab9bed",
   "metadata": {},
   "outputs": [
    {
     "data": {
      "text/plain": [
       "50"
      ]
     },
     "execution_count": 154,
     "metadata": {},
     "output_type": "execute_result"
    }
   ],
   "source": [
    "product_tags1=driver.find_elements_by_xpath('//h4[@class=\"product-product\"]')\n",
    "len(product_tags1)"
   ]
  },
  {
   "cell_type": "code",
   "execution_count": 155,
   "id": "c872002b",
   "metadata": {},
   "outputs": [
    {
     "data": {
      "text/plain": [
       "['Leather Platform Heeled Boots',\n",
       " 'Suede Party High-Top Block Heeled Boots',\n",
       " 'Women Chunky Sneakers',\n",
       " 'Textured Leather Party Kitten Heeled Boots',\n",
       " 'Leather Boots with Buckles',\n",
       " 'Men Solid Leather Formal Loafers',\n",
       " 'Woman Black Leather Boots',\n",
       " 'Women High-Top Heeled Boots',\n",
       " 'Leather Block Heeled Boots with Buckles',\n",
       " 'Leather Block Heeled Boots',\n",
       " 'Embellished Flatform Boots',\n",
       " 'Women Leather Heeled Boots',\n",
       " 'Women Leather High-Top Flat Boots',\n",
       " 'Women Leather Penny Loafers',\n",
       " 'Women Textured Slip-On Sneakers',\n",
       " 'Women Leather Sneakers',\n",
       " 'Men Zoom Span 4 Running Shoes',\n",
       " 'Women Leather Heeled Boots',\n",
       " 'Men Solid Leather Formal Slip-Ons',\n",
       " 'Men Balance Anchor Walking',\n",
       " 'Men Go Run Hyper Burst Running',\n",
       " 'Men Leather Derbys',\n",
       " 'Men Solid Leather Formal Slip-Ons',\n",
       " \"Men BlazerLow '77 Sneakers\",\n",
       " 'Men Formal Derbys',\n",
       " 'Helsinki Bike Toe Lace Shoes',\n",
       " 'Men Solid Leather Formal Derbys',\n",
       " 'Leather Block Heeled Boots',\n",
       " 'Men Walking Shoes',\n",
       " 'Men Solid Formal Slip-Ons',\n",
       " 'Men Solid Leather Formal Penny Loafers',\n",
       " 'Women Leather Heeled Boots',\n",
       " 'Women Leather Heeled Boots',\n",
       " 'Women Kitten Heeled Boots',\n",
       " 'Women Leather Heeled Boots',\n",
       " 'Men Solid Leather Formal Loafers',\n",
       " 'Leather Stiletto Pumps',\n",
       " 'Women Textured Leather Sneakers',\n",
       " 'Women Mid Top Chunky Flat Boot',\n",
       " 'Women Ballerinas Flats',\n",
       " 'Women Eternity NITRO Shoes',\n",
       " 'Women HOVR Sonic 4 Running',\n",
       " 'Men Textured Leather Loafers',\n",
       " 'Men Solid Loafers',\n",
       " 'Women Leather High-Top Flat Boots',\n",
       " 'Suede Block Heeled Boots',\n",
       " 'Striped Suede Flatform Heeled Boots',\n",
       " 'Block Heeled Boots',\n",
       " 'Women Perforations Sneakers',\n",
       " 'Men Leather Driving Shoes']"
      ]
     },
     "execution_count": 155,
     "metadata": {},
     "output_type": "execute_result"
    }
   ],
   "source": [
    "product_names1=[]\n",
    "for j in product_tags1:\n",
    "    product_names1.append(j.text)\n",
    "product_names1"
   ]
  },
  {
   "cell_type": "code",
   "execution_count": 156,
   "id": "6c77db2e",
   "metadata": {},
   "outputs": [
    {
     "data": {
      "text/plain": [
       "50"
      ]
     },
     "execution_count": 156,
     "metadata": {},
     "output_type": "execute_result"
    }
   ],
   "source": [
    "price_tags1=driver.find_elements_by_xpath('//div[@class=\"product-price\"]/span[1]')\n",
    "len(price_tags1)"
   ]
  },
  {
   "cell_type": "code",
   "execution_count": 157,
   "id": "b58da3e1",
   "metadata": {},
   "outputs": [
    {
     "data": {
      "text/plain": [
       "['Rs. 9810Rs. 10900',\n",
       " 'Rs. 9450Rs. 10500',\n",
       " 'Rs. 9999',\n",
       " 'Rs. 11954Rs. 13900',\n",
       " 'Rs. 8505Rs. 10500',\n",
       " 'Rs. 11990',\n",
       " 'Rs. 11250Rs. 12500',\n",
       " 'Rs. 9869Rs. 13900',\n",
       " 'Rs. 9810Rs. 10900',\n",
       " 'Rs. 9810Rs. 10900',\n",
       " 'Rs. 8505Rs. 10500',\n",
       " 'Rs. 13410Rs. 14900',\n",
       " 'Rs. 10499Rs. 14999',\n",
       " 'Rs. 7191Rs. 7990',\n",
       " 'Rs. 7999',\n",
       " 'Rs. 10999',\n",
       " 'Rs. 7195',\n",
       " 'Rs. 13050Rs. 14500',\n",
       " 'Rs. 8999',\n",
       " 'Rs. 8499Rs. 9999',\n",
       " 'Rs. 7224Rs. 8499',\n",
       " 'Rs. 7999',\n",
       " 'Rs. 9999',\n",
       " 'Rs. 7195',\n",
       " 'Rs. 9999',\n",
       " 'Rs. 12999',\n",
       " 'Rs. 9999',\n",
       " 'Rs. 12675Rs. 16900',\n",
       " 'Rs. 7199Rs. 8999',\n",
       " 'Rs. 9999',\n",
       " 'Rs. 7693Rs. 10990',\n",
       " 'Rs. 13674Rs. 15900',\n",
       " 'Rs. 12905Rs. 14500',\n",
       " 'Rs. 7921Rs. 8900',\n",
       " 'Rs. 12510Rs. 13900',\n",
       " 'Rs. 8490',\n",
       " 'Rs. 12999',\n",
       " 'Rs. 13999',\n",
       " 'Rs. 7590Rs. 7990',\n",
       " 'Rs. 8999',\n",
       " 'Rs. 7799Rs. 12999',\n",
       " 'Rs. 8799Rs. 10999',\n",
       " 'Rs. 10999',\n",
       " 'Rs. 8990',\n",
       " 'Rs. 12599Rs. 17999',\n",
       " 'Rs. 10350Rs. 11500',\n",
       " 'Rs. 8910Rs. 9900',\n",
       " 'Rs. 7699Rs. 10999',\n",
       " 'Rs. 8999',\n",
       " 'Rs. 9499']"
      ]
     },
     "execution_count": 157,
     "metadata": {},
     "output_type": "execute_result"
    }
   ],
   "source": [
    "price1=[]\n",
    "for k in price_tags1:\n",
    "    price1.append(k.text)\n",
    "price1"
   ]
  },
  {
   "cell_type": "code",
   "execution_count": 158,
   "id": "82b397cf",
   "metadata": {},
   "outputs": [
    {
     "data": {
      "text/html": [
       "<div>\n",
       "<style scoped>\n",
       "    .dataframe tbody tr th:only-of-type {\n",
       "        vertical-align: middle;\n",
       "    }\n",
       "\n",
       "    .dataframe tbody tr th {\n",
       "        vertical-align: top;\n",
       "    }\n",
       "\n",
       "    .dataframe thead th {\n",
       "        text-align: right;\n",
       "    }\n",
       "</style>\n",
       "<table border=\"1\" class=\"dataframe\">\n",
       "  <thead>\n",
       "    <tr style=\"text-align: right;\">\n",
       "      <th></th>\n",
       "      <th>Brand</th>\n",
       "      <th>Product Description</th>\n",
       "      <th>Price</th>\n",
       "    </tr>\n",
       "  </thead>\n",
       "  <tbody>\n",
       "    <tr>\n",
       "      <th>0</th>\n",
       "      <td>PUMA Motorsport</td>\n",
       "      <td>Unisex Mercedes F1 Sneakers</td>\n",
       "      <td>Rs. 7999Rs. 9999</td>\n",
       "    </tr>\n",
       "    <tr>\n",
       "      <th>1</th>\n",
       "      <td>Puma</td>\n",
       "      <td>Men Running Shoes</td>\n",
       "      <td>Rs. 7149Rs. 12999</td>\n",
       "    </tr>\n",
       "    <tr>\n",
       "      <th>2</th>\n",
       "      <td>Puma</td>\n",
       "      <td>Men Magnify Nitro Running</td>\n",
       "      <td>Rs. 8449Rs. 12999</td>\n",
       "    </tr>\n",
       "    <tr>\n",
       "      <th>3</th>\n",
       "      <td>Puma</td>\n",
       "      <td>Men Electrify Nitro Running</td>\n",
       "      <td>Rs. 7499Rs. 9999</td>\n",
       "    </tr>\n",
       "    <tr>\n",
       "      <th>4</th>\n",
       "      <td>Saint G</td>\n",
       "      <td>Men Mid-Top Chelsea Boots</td>\n",
       "      <td>Rs. 9810Rs. 10900</td>\n",
       "    </tr>\n",
       "    <tr>\n",
       "      <th>...</th>\n",
       "      <td>...</td>\n",
       "      <td>...</td>\n",
       "      <td>...</td>\n",
       "    </tr>\n",
       "    <tr>\n",
       "      <th>45</th>\n",
       "      <td>Saint G</td>\n",
       "      <td>Suede Block Heeled Boots</td>\n",
       "      <td>Rs. 10350Rs. 11500</td>\n",
       "    </tr>\n",
       "    <tr>\n",
       "      <th>46</th>\n",
       "      <td>Saint G</td>\n",
       "      <td>Striped Suede Flatform Heeled Boots</td>\n",
       "      <td>Rs. 8910Rs. 9900</td>\n",
       "    </tr>\n",
       "    <tr>\n",
       "      <th>47</th>\n",
       "      <td>Bugatti</td>\n",
       "      <td>Block Heeled Boots</td>\n",
       "      <td>Rs. 7699Rs. 10999</td>\n",
       "    </tr>\n",
       "    <tr>\n",
       "      <th>48</th>\n",
       "      <td>Onitsuka Tiger</td>\n",
       "      <td>Women Perforations Sneakers</td>\n",
       "      <td>Rs. 8999</td>\n",
       "    </tr>\n",
       "    <tr>\n",
       "      <th>49</th>\n",
       "      <td>Geox</td>\n",
       "      <td>Men Leather Driving Shoes</td>\n",
       "      <td>Rs. 9499</td>\n",
       "    </tr>\n",
       "  </tbody>\n",
       "</table>\n",
       "<p>100 rows × 3 columns</p>\n",
       "</div>"
      ],
      "text/plain": [
       "              Brand                 Product Description                Price\n",
       "0   PUMA Motorsport          Unisex Mercedes F1 Sneakers    Rs. 7999Rs. 9999\n",
       "1              Puma                    Men Running Shoes   Rs. 7149Rs. 12999\n",
       "2              Puma            Men Magnify Nitro Running   Rs. 8449Rs. 12999\n",
       "3              Puma          Men Electrify Nitro Running    Rs. 7499Rs. 9999\n",
       "4           Saint G            Men Mid-Top Chelsea Boots   Rs. 9810Rs. 10900\n",
       "..              ...                                  ...                 ...\n",
       "45          Saint G             Suede Block Heeled Boots  Rs. 10350Rs. 11500\n",
       "46          Saint G  Striped Suede Flatform Heeled Boots    Rs. 8910Rs. 9900\n",
       "47          Bugatti                   Block Heeled Boots   Rs. 7699Rs. 10999\n",
       "48   Onitsuka Tiger          Women Perforations Sneakers            Rs. 8999\n",
       "49             Geox            Men Leather Driving Shoes            Rs. 9499\n",
       "\n",
       "[100 rows x 3 columns]"
      ]
     },
     "execution_count": 158,
     "metadata": {},
     "output_type": "execute_result"
    }
   ],
   "source": [
    "shoes=pd.DataFrame()\n",
    "shoes['Brand']= brand_titles\n",
    "shoes['Product Description ']= product_names\n",
    "shoes['Price']= price\n",
    "\n",
    "shoes1=pd.DataFrame()\n",
    "shoes1['Brand']= brand_titles1\n",
    "shoes1['Product Description ']= product_names1\n",
    "shoes1['Price']= price1\n",
    "\n",
    "myntra_shoes=pd.concat([shoes,shoes1])\n",
    "myntra_shoes\n",
    "\n"
   ]
  },
  {
   "cell_type": "code",
   "execution_count": null,
   "id": "6346f522",
   "metadata": {},
   "outputs": [],
   "source": []
  },
  {
   "cell_type": "code",
   "execution_count": null,
   "id": "27e7d7b8",
   "metadata": {},
   "outputs": [],
   "source": []
  }
 ],
 "metadata": {
  "kernelspec": {
   "display_name": "Python 3",
   "language": "python",
   "name": "python3"
  },
  "language_info": {
   "codemirror_mode": {
    "name": "ipython",
    "version": 3
   },
   "file_extension": ".py",
   "mimetype": "text/x-python",
   "name": "python",
   "nbconvert_exporter": "python",
   "pygments_lexer": "ipython3",
   "version": "3.8.8"
  }
 },
 "nbformat": 4,
 "nbformat_minor": 5
}
